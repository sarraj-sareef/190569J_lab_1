{
  "cells": [
    {
      "cell_type": "markdown",
      "source": [
        "Sarraj SM\n",
        "190569J\n",
        "Feature Engineering Lab"
      ],
      "metadata": {
        "id": "fKozxwNeB0CO"
      }
    },
    {
      "cell_type": "code",
      "execution_count": 1,
      "metadata": {
        "id": "vuAWFrbrxgje"
      },
      "outputs": [],
      "source": [
        "  # Import necessary libraries\n",
        "import pandas as pd\n",
        "from sklearn.model_selection import train_test_split\n",
        "from sklearn.ensemble import RandomForestClassifier\n",
        "from sklearn.metrics import accuracy_score, classification_report\n",
        "from sklearn import svm\n",
        "from sklearn.preprocessing import StandardScaler\n"
      ]
    },
    {
      "cell_type": "markdown",
      "metadata": {
        "id": "fRzLljmkycex"
      },
      "source": [
        "Lets load csv"
      ]
    },
    {
      "cell_type": "code",
      "execution_count": 2,
      "metadata": {
        "id": "T0SWTmTHybKN"
      },
      "outputs": [],
      "source": [
        "\n",
        "# Load our dataset\n",
        "train = pd.read_csv('/content/drive/MyDrive/ML/train.csv')\n",
        "test = pd.read_csv('/content/drive/MyDrive/ML/valid.csv')\n"
      ]
    },
    {
      "cell_type": "markdown",
      "source": [
        "Clean the data to be more handy in up coming work"
      ],
      "metadata": {
        "id": "u5OtHvGFB_cq"
      }
    },
    {
      "cell_type": "code",
      "source": [
        "labels = ['label_1','label_2','label_3','label_4']\n",
        "features = [f\"feature_{i}\" for i in range(1,257)]\n",
        "train_feature = train.drop(labels, axis=1)\n",
        "train_label1 = train['label_1']\n",
        "test_feature = test.drop(labels, axis=1)\n",
        "test_label1 = test['label_1']\n",
        "\n",
        "\n"
      ],
      "metadata": {
        "id": "WXilx-LgB-2u"
      },
      "execution_count": 3,
      "outputs": []
    },
    {
      "cell_type": "markdown",
      "source": [
        "Run Classifier on the above scaled data Frame\n",
        "\n",
        "\n",
        "\n"
      ],
      "metadata": {
        "id": "zTMHQws_iG6y"
      }
    },
    {
      "cell_type": "code",
      "source": [
        "classifier = svm.SVC(kernel=\"linear\")\n",
        "classifier.fit(train_feature,train_label1)\n",
        "pred_label1 = classifier.predict(test_feature)\n",
        "\n",
        "# Evaluate the model\n",
        "accuracy = accuracy_score(test_label1, pred_label1)\n",
        "print(\"Accuracy of label 1 before feature engineering:\", accuracy)"
      ],
      "metadata": {
        "colab": {
          "base_uri": "https://localhost:8080/"
        },
        "id": "G0Wj3JepInv7",
        "outputId": "113a7d43-1b3c-411b-931f-8903eeb27f31"
      },
      "execution_count": null,
      "outputs": [
        {
          "output_type": "stream",
          "name": "stdout",
          "text": [
            "Accuracy of label 1 before feature engineering: 0.992\n"
          ]
        }
      ]
    },
    {
      "cell_type": "markdown",
      "source": [
        "Original Test before feature engineering"
      ],
      "metadata": {
        "id": "AUkhu9kIIpN3"
      }
    },
    {
      "cell_type": "code",
      "source": [
        "original_test = pd.read_csv('/content/drive/MyDrive/ML/test.csv')\n",
        "original_test_feature = original_test.drop(labels, axis=1)\n",
        "pred_label_ori = classifier.predict(original_test_feature)\n",
        "result_1_df = pd.DataFrame()\n",
        "result_1_df['Predicted labels before feature engineering'] = pred_label_ori\n",
        "\n"
      ],
      "metadata": {
        "id": "bCybUU1SiF78"
      },
      "execution_count": null,
      "outputs": []
    },
    {
      "cell_type": "markdown",
      "source": [
        "\n",
        "\n",
        "# 1 - Feature Engineering for label 1\n",
        "\n",
        "\n",
        "\n",
        "\n",
        "\n",
        "\n",
        "\n",
        "\n"
      ],
      "metadata": {
        "id": "Ee5CRBk3pyQB"
      }
    },
    {
      "cell_type": "markdown",
      "source": [
        "\n",
        "\n",
        "## 1.1 Use correlation co-effiecient\n",
        "\n",
        "\n",
        "\n",
        "\n"
      ],
      "metadata": {
        "id": "LtuyoIzBtbqi"
      }
    },
    {
      "cell_type": "code",
      "source": [
        "import numpy as np\n",
        "corr_matrix1 = train_feature.corr()\n",
        "\n",
        "# Get upper traingular matrix\n",
        "upper_1 = corr_matrix1.where(np.triu(np.ones(corr_matrix1.shape), k=1).astype(bool))\n",
        "features_to_drop_1 = [column for column in upper_1.columns if any(upper_1[column] > 0.4)]\n",
        "\n",
        "print(\"No of features to be dropped = \", len(features_to_drop_1))\n",
        "\n",
        "features_remain = [element for element in train_feature if element not in features_to_drop_1]\n",
        "print(\"No of features remaining = \",len(features_remain))\n",
        "\n"
      ],
      "metadata": {
        "colab": {
          "base_uri": "https://localhost:8080/"
        },
        "id": "UX3Wm3fqtbKr",
        "outputId": "1435edf0-00a9-4358-85bd-c8ab68476e85"
      },
      "execution_count": null,
      "outputs": [
        {
          "output_type": "stream",
          "name": "stdout",
          "text": [
            "No of features to be dropped =  146\n",
            "No of features remaining =  110\n"
          ]
        }
      ]
    },
    {
      "cell_type": "code",
      "source": [
        "\n",
        "classifier = svm.SVC(kernel=\"linear\")\n",
        "classifier.fit(train[features_remain], train_label1)\n",
        "valid_predictions = classifier.predict(test[features_remain])\n",
        "accuracy = accuracy_score(test_label1, valid_predictions)\n",
        "print(\"Accuracy after use of correlation co-efficient on L1 :\", accuracy)\n"
      ],
      "metadata": {
        "colab": {
          "base_uri": "https://localhost:8080/"
        },
        "id": "aaM3Y3sHvaew",
        "outputId": "14063957-d88f-4045-c295-4fa481938650"
      },
      "execution_count": null,
      "outputs": [
        {
          "output_type": "stream",
          "name": "stdout",
          "text": [
            "Accuracy after use of correlation co-efficient on L1 : 0.9813333333333333\n"
          ]
        }
      ]
    },
    {
      "cell_type": "markdown",
      "source": [
        "## 1.2 Use ANOVA selector"
      ],
      "metadata": {
        "id": "BBf9uaCqFdnB"
      }
    },
    {
      "cell_type": "code",
      "source": [
        "from sklearn.feature_selection import SelectKBest, f_classif\n",
        "from sklearn import svm\n",
        "from sklearn.metrics import accuracy_score, classification_report\n",
        "\n",
        "new_train_feature_1 = train_feature.drop(features_to_drop_1, axis=1)\n",
        "new_test_feature_1 = test_feature.drop(features_to_drop_1, axis=1)\n",
        "k = 77\n",
        "\n",
        "anova_selector = SelectKBest(score_func=f_classif, k=k)\n",
        "\n",
        "#use anova selector for top k features\n",
        "train_feature_selected = anova_selector.fit_transform(new_train_feature_1, train_label1)\n",
        "\n",
        "# Transform the validation features to select the same 'k' features\n",
        "valid_feature_selected = anova_selector.transform(new_test_feature_1)\n",
        "\n",
        "#use svc\n",
        "classifier = svm.SVC(kernel=\"linear\")\n",
        "classifier.fit(train_feature_selected, train_label1)\n",
        "valid_predictions = classifier.predict(valid_feature_selected)\n",
        "accuracy = accuracy_score(test_label1, valid_predictions)\n",
        "print(\"Accuracy after using anova selector :\", accuracy)\n"
      ],
      "metadata": {
        "colab": {
          "base_uri": "https://localhost:8080/"
        },
        "id": "CFfujCGuqFf3",
        "outputId": "d5e1de0d-15ab-4877-f9b5-49a1faef38c3"
      },
      "execution_count": null,
      "outputs": [
        {
          "output_type": "stream",
          "name": "stdout",
          "text": [
            "Accuracy after using anova selector : 0.9706666666666667\n"
          ]
        }
      ]
    },
    {
      "cell_type": "markdown",
      "source": [
        "Remaing features after using ANOVA selector"
      ],
      "metadata": {
        "id": "UbcGNllhoBwW"
      }
    },
    {
      "cell_type": "code",
      "source": [
        "selected_feature_indices = anova_selector.get_support(indices=True)\n",
        "\n",
        "# Create a DataFrame with the selected features for validation\n",
        "train_feature_selected_df_1 = pd.DataFrame(train_feature_selected, columns=[features[i] for i in selected_feature_indices])\n",
        "valid_feature_selected_df_1 = pd.DataFrame(valid_feature_selected, columns=[features[i] for i in selected_feature_indices])\n",
        "train_feature_selected_df_1.head()\n",
        "print(\"Number of rows in the validation features:\", valid_feature_selected_df_1.shape[1])\n",
        "\n"
      ],
      "metadata": {
        "colab": {
          "base_uri": "https://localhost:8080/"
        },
        "id": "QBgc-nWomXIX",
        "outputId": "419c2268-285c-4bad-ea6d-91d1fd37627a"
      },
      "execution_count": null,
      "outputs": [
        {
          "output_type": "stream",
          "name": "stdout",
          "text": [
            "Number of rows in the validation features: 77\n"
          ]
        }
      ]
    },
    {
      "cell_type": "markdown",
      "source": [
        "## 1.3 Use Principal Component Analysis"
      ],
      "metadata": {
        "id": "H2qjJVWe_a9h"
      }
    },
    {
      "cell_type": "code",
      "source": [
        "from sklearn.decomposition import PCA\n",
        "no_of_components = 70\n",
        "pca = PCA(n_components=no_of_components)\n",
        "\n",
        "\n",
        "train_feature_pca_1 = pca.fit_transform(train_feature_selected_df_1)\n",
        "valid_feature_pca_1 = pca.transform(valid_feature_selected_df_1)\n",
        "\n",
        "\n",
        "classifier = svm.SVC(kernel=\"linear\")\n",
        "classifier.fit(train_feature_pca_1, train_label1)\n",
        "valid_predictions = classifier.predict(valid_feature_pca_1)\n",
        "accuracy = accuracy_score(test_label1, valid_predictions)\n",
        "print(\"Accuracy after PCA :\", accuracy)"
      ],
      "metadata": {
        "colab": {
          "base_uri": "https://localhost:8080/"
        },
        "id": "UbttyJMYAKfU",
        "outputId": "908830b0-875a-48b0-ee8d-ed2762a7a29f"
      },
      "execution_count": null,
      "outputs": [
        {
          "output_type": "stream",
          "name": "stdout",
          "text": [
            "Accuracy after PCA : 0.9706666666666667\n"
          ]
        }
      ]
    },
    {
      "cell_type": "markdown",
      "source": [
        "## 1.4 Scaling"
      ],
      "metadata": {
        "id": "Mu6RQGJDjBtl"
      }
    },
    {
      "cell_type": "code",
      "source": [
        "sc=StandardScaler()\n",
        "scaled_train = sc.fit_transform(train_feature_pca_1)\n",
        "scaled_test = sc.transform(valid_feature_pca_1)"
      ],
      "metadata": {
        "id": "iTYgi2AwjAok"
      },
      "execution_count": null,
      "outputs": []
    },
    {
      "cell_type": "code",
      "source": [
        "classifier = svm.SVC(kernel=\"linear\")\n",
        "classifier.fit(scaled_train, train_label1)\n",
        "valid_predictions = classifier.predict(scaled_test)\n",
        "accuracy = accuracy_score(test_label1, valid_predictions)\n",
        "print(\"Accuracy after scaling :\", accuracy)"
      ],
      "metadata": {
        "colab": {
          "base_uri": "https://localhost:8080/"
        },
        "id": "HqFW_8PHksWw",
        "outputId": "0a93fd7b-da35-49f6-f89b-030a52e909b9"
      },
      "execution_count": null,
      "outputs": [
        {
          "output_type": "stream",
          "name": "stdout",
          "text": [
            "Accuracy after scaling : 0.976\n"
          ]
        }
      ]
    },
    {
      "cell_type": "markdown",
      "source": [
        "Evaluate after feature engineering"
      ],
      "metadata": {
        "id": "RRKRIQfAOY-A"
      }
    },
    {
      "cell_type": "code",
      "source": [
        "\n",
        "original_test_feature = original_test.drop(labels, axis=1)\n",
        "original_test_feature = original_test_feature.drop(features_to_drop_1, axis=1)\n",
        "original_test_feature_selected = anova_selector.transform(original_test_feature)\n",
        "original_test_feature_pca = pca.transform(original_test_feature_selected)\n",
        "scaled_original_test = sc.transform(original_test_feature_pca)\n",
        "\n",
        "\n",
        "test_pred_label1 = classifier.predict(scaled_original_test)\n",
        "result_1_df['Predicted labels after feature engineering'] = test_pred_label1\n",
        "result_1_df['No of new features'] = no_of_components\n",
        "new_column_names = [f'new_feature_{i+1}' for i in range(scaled_original_test.shape[1])]\n",
        "pca_df = pd.DataFrame(data=scaled_original_test,columns=new_column_names)\n",
        "result_1_df = pd.concat([result_1_df, pca_df], axis=1)\n",
        "result_1_df.head()\n",
        "result_1_df.to_csv('190569J_label_1.csv',index=False)"
      ],
      "metadata": {
        "colab": {
          "base_uri": "https://localhost:8080/"
        },
        "id": "e4H6jnmFOYfp",
        "outputId": "6e791b28-b67d-4418-9f68-36f6cb045696"
      },
      "execution_count": null,
      "outputs": [
        {
          "output_type": "stream",
          "name": "stderr",
          "text": [
            "/usr/local/lib/python3.10/dist-packages/sklearn/base.py:439: UserWarning: X does not have valid feature names, but PCA was fitted with feature names\n",
            "  warnings.warn(\n"
          ]
        }
      ]
    },
    {
      "cell_type": "markdown",
      "source": [
        "# 2 - Feature Engineering for label 2"
      ],
      "metadata": {
        "id": "B6D3JUxfGFEC"
      }
    },
    {
      "cell_type": "markdown",
      "source": [
        "for Label 2 Remove the rows with Nan values in both train and validation data"
      ],
      "metadata": {
        "id": "BeGcigPJiw5E"
      }
    },
    {
      "cell_type": "code",
      "execution_count": null,
      "metadata": {
        "id": "ZvW2De0jsHMi",
        "colab": {
          "base_uri": "https://localhost:8080/"
        },
        "outputId": "1b547725-d2fb-4de7-9311-fc7082c9fe71"
      },
      "outputs": [
        {
          "output_type": "stream",
          "name": "stdout",
          "text": [
            "number of Nan values train label 2 : 480\n",
            "number of Nan values test label 2 : 14\n",
            "Accuracy before feature engineering : 0.9008152173913043\n"
          ]
        }
      ],
      "source": [
        "# Load our dataset\n",
        "train = pd.read_csv('/content/drive/MyDrive/ML/train.csv')\n",
        "print(\"number of Nan values train label 2 :\",train['label_2'].isna().sum())\n",
        "df_train_cleaned_2 = train.dropna()\n",
        "test = pd.read_csv('/content/drive/MyDrive/ML/valid.csv')\n",
        "print(\"number of Nan values test label 2 :\",test['label_2'].isna().sum())\n",
        "df_valid_cleaned_2 = test.dropna()\n",
        "labels = ['label_1','label_2','label_3','label_4']\n",
        "features = [f\"feature_{i}\" for i in range(1,257)]\n",
        "\n",
        "\n",
        "train_feature_2 = df_train_cleaned_2.drop(labels, axis=1)\n",
        "train_label2 = df_train_cleaned_2['label_2']\n",
        "test_feature_2 = df_valid_cleaned_2.drop(labels, axis=1)\n",
        "test_label2 = df_valid_cleaned_2['label_2']\n",
        "\n",
        "classifier = svm.SVC(kernel=\"linear\")\n",
        "classifier.fit(train_feature_2,train_label2)\n",
        "y_pred = classifier.predict(test_feature_2)\n",
        "accuracy = accuracy_score(test_label2, y_pred)\n",
        "print(\"Accuracy before feature engineering :\", accuracy)\n"
      ]
    },
    {
      "cell_type": "code",
      "source": [
        "\n",
        "original_test_feature = original_test.drop(labels, axis=1)\n",
        "pred_label_ori_2 = classifier.predict(original_test_feature)\n",
        "result_1_df = pd.DataFrame()\n",
        "result_1_df['Predicted labels before feature engineering'] = pred_label_ori_2\n",
        "\n"
      ],
      "metadata": {
        "id": "-y9A_b5AfqTf"
      },
      "execution_count": null,
      "outputs": []
    },
    {
      "cell_type": "markdown",
      "source": [
        "## 2.1 Use correlation co-effiecient"
      ],
      "metadata": {
        "id": "DSHNSab2Izd0"
      }
    },
    {
      "cell_type": "code",
      "source": [
        "import numpy as np\n",
        "corr_matrix2 = train_feature_2.corr()\n",
        "\n",
        "# Get upper traingular matrix\n",
        "upper_2 = corr_matrix2.where(np.triu(np.ones(corr_matrix2.shape), k=1).astype(bool))\n",
        "features_to_drop_2 = [column for column in upper_2.columns if any(upper_2[column] > 0.5)]\n",
        "\n",
        "print(\"No of features to be dropped = \", len(features_to_drop_2))\n",
        "\n",
        "features_remain_2 = [element for element in train_feature_2 if element not in features_to_drop_2]\n",
        "print(\"No of features remaining = \",len(features_remain_2))\n",
        "\n"
      ],
      "metadata": {
        "colab": {
          "base_uri": "https://localhost:8080/"
        },
        "id": "ifO7ZfS4I62o",
        "outputId": "cdcf7ee0-3ebd-4b30-dd19-dd579f463aaf"
      },
      "execution_count": null,
      "outputs": [
        {
          "output_type": "stream",
          "name": "stdout",
          "text": [
            "No of features to be dropped =  31\n",
            "No of features remaining =  225\n"
          ]
        }
      ]
    },
    {
      "cell_type": "code",
      "source": [
        "\n",
        "classifier = svm.SVC(kernel=\"linear\")\n",
        "classifier.fit(df_train_cleaned_2[features_remain_2], train_label2)\n",
        "valid_predictions = classifier.predict(df_valid_cleaned_2[features_remain_2])\n",
        "accuracy = accuracy_score(test_label2, valid_predictions)\n",
        "print(\"Accuracy after use of correlation co-efficient on L2 :\", accuracy)\n"
      ],
      "metadata": {
        "colab": {
          "base_uri": "https://localhost:8080/"
        },
        "id": "eRmpZJS7JK0W",
        "outputId": "81b2100d-4d39-433b-ee00-118549a2ce91"
      },
      "execution_count": null,
      "outputs": [
        {
          "output_type": "stream",
          "name": "stdout",
          "text": [
            "Accuracy after use of correlation co-efficient on L2 : 0.8967391304347826\n"
          ]
        }
      ]
    },
    {
      "cell_type": "markdown",
      "source": [
        "## 2.2 Use ANOVA selector"
      ],
      "metadata": {
        "id": "yonzzBfoOP-z"
      }
    },
    {
      "cell_type": "code",
      "source": [
        "from sklearn.feature_selection import SelectKBest, f_classif\n",
        "from sklearn import svm\n",
        "from sklearn.metrics import accuracy_score, classification_report\n",
        "\n",
        "new_train_feature_2 = train_feature_2.drop(features_to_drop_2, axis=1)\n",
        "new_test_feature_2 = test_feature_2.drop(features_to_drop_2, axis=1)\n",
        "k = 200\n",
        "\n",
        "anova_selector = SelectKBest(score_func=f_classif, k=k)\n",
        "\n",
        "#use anova selector for top k features\n",
        "train_feature_selected_2 = anova_selector.fit_transform(new_train_feature_2, train_label2)\n",
        "\n",
        "# Transform the validation features to select the same 'k' features\n",
        "valid_feature_selected_2 = anova_selector.transform(new_test_feature_2)\n",
        "\n",
        "#use svc\n",
        "classifier = svm.SVC(kernel=\"linear\")\n",
        "classifier.fit(train_feature_selected_2, train_label2)\n",
        "valid_predictions = classifier.predict(valid_feature_selected_2)\n",
        "accuracy = accuracy_score(test_label2, valid_predictions)\n",
        "print(\"Accuracy after using anova selector :\", accuracy)\n"
      ],
      "metadata": {
        "colab": {
          "base_uri": "https://localhost:8080/"
        },
        "id": "ppJ6oi4COGTb",
        "outputId": "6cc00736-c04b-4457-e45a-40627fc3ae5b"
      },
      "execution_count": null,
      "outputs": [
        {
          "output_type": "stream",
          "name": "stdout",
          "text": [
            "Accuracy after using anova selector : 0.8831521739130435\n"
          ]
        }
      ]
    },
    {
      "cell_type": "markdown",
      "source": [
        "\n",
        "\n",
        "Remaing features after using ANOVA selector\n",
        "\n"
      ],
      "metadata": {
        "id": "Phmkj5TtQHKE"
      }
    },
    {
      "cell_type": "code",
      "source": [
        "selected_feature_indices = anova_selector.get_support(indices=True)\n",
        "\n",
        "# Create a DataFrame with the selected features for validation\n",
        "train_feature_selected_df_2 = pd.DataFrame(train_feature_selected_2, columns=[features[i] for i in selected_feature_indices])\n",
        "valid_feature_selected_df_2 = pd.DataFrame(valid_feature_selected_2, columns=[features[i] for i in selected_feature_indices])\n",
        "train_feature_selected_df_2.head()\n",
        "print(\"Number of rows in the DataFrame:\", valid_feature_selected_df_2.shape[1])\n",
        "\n"
      ],
      "metadata": {
        "colab": {
          "base_uri": "https://localhost:8080/"
        },
        "id": "q9EOonGVQH81",
        "outputId": "db18e4c0-1ebb-4773-cae6-fcfd4b68e220"
      },
      "execution_count": null,
      "outputs": [
        {
          "output_type": "stream",
          "name": "stdout",
          "text": [
            "Number of rows in the DataFrame: 200\n"
          ]
        }
      ]
    },
    {
      "cell_type": "markdown",
      "source": [
        "## 2.3 Use Principal Component Analysis"
      ],
      "metadata": {
        "id": "-_1VRk7NReXa"
      }
    },
    {
      "cell_type": "code",
      "source": [
        "from sklearn.decomposition import PCA\n",
        "no_of_components = 151\n",
        "pca = PCA(n_components=no_of_components)\n",
        "\n",
        "\n",
        "train_feature_pca_2 = pca.fit_transform(train_feature_selected_df_2)\n",
        "valid_feature_pca_2 = pca.transform(valid_feature_selected_df_2)\n",
        "\n",
        "\n",
        "classifier = svm.SVC(kernel=\"linear\")\n",
        "classifier.fit(train_feature_pca_2, train_label2)\n",
        "valid_predictions = classifier.predict(valid_feature_pca_2)\n",
        "accuracy = accuracy_score(test_label2, valid_predictions)\n",
        "print(\"Accuracy after PCA :\", accuracy)"
      ],
      "metadata": {
        "colab": {
          "base_uri": "https://localhost:8080/"
        },
        "id": "jM7SmgSmRgub",
        "outputId": "f43ddd77-4534-4813-d325-954b8726732d"
      },
      "execution_count": null,
      "outputs": [
        {
          "output_type": "stream",
          "name": "stdout",
          "text": [
            "Accuracy after PCA : 0.8668478260869565\n"
          ]
        }
      ]
    },
    {
      "cell_type": "markdown",
      "source": [
        "## 2.4 Scaling"
      ],
      "metadata": {
        "id": "h1MYEXHft7h3"
      }
    },
    {
      "cell_type": "code",
      "source": [
        "sc=StandardScaler()\n",
        "scaled_train = sc.fit_transform(train_feature_pca_2)\n",
        "scaled_test = sc.transform(valid_feature_pca_2)"
      ],
      "metadata": {
        "id": "P3oLD6_5t_PG"
      },
      "execution_count": null,
      "outputs": []
    },
    {
      "cell_type": "code",
      "source": [
        "classifier = svm.SVC(kernel=\"linear\")\n",
        "classifier.fit(scaled_train, train_label2)\n",
        "valid_predictions = classifier.predict(scaled_test)\n",
        "accuracy = accuracy_score(test_label2, valid_predictions)\n",
        "print(\"Accuracy after scaling :\", accuracy)"
      ],
      "metadata": {
        "colab": {
          "base_uri": "https://localhost:8080/"
        },
        "id": "iKPXzrZAuBvK",
        "outputId": "5cefcae2-b67d-424b-aea8-c94c1604acba"
      },
      "execution_count": null,
      "outputs": [
        {
          "output_type": "stream",
          "name": "stdout",
          "text": [
            "Accuracy after scaling : 0.8641304347826086\n"
          ]
        }
      ]
    },
    {
      "cell_type": "markdown",
      "source": [
        "Evaluate after feature engineering"
      ],
      "metadata": {
        "id": "7W-H4l8sh-TC"
      }
    },
    {
      "cell_type": "code",
      "source": [
        "\n",
        "original_test_feature = original_test.drop(labels, axis=1)\n",
        "original_test_feature = original_test_feature.drop(features_to_drop_2, axis=1)\n",
        "original_test_feature_selected = anova_selector.transform(original_test_feature)\n",
        "original_test_feature_pca = pca.transform(original_test_feature_selected)\n",
        "scaled_original_test = sc.transform(original_test_feature_pca)\n",
        "\n",
        "\n",
        "test_pred_label2 = classifier.predict(scaled_original_test)\n",
        "result_1_df['Predicted labels after feature engineering'] = test_pred_label2\n",
        "result_1_df['No of new features'] = no_of_components\n",
        "new_column_names = [f'new_feature_{i+1}' for i in range(scaled_original_test.shape[1])]\n",
        "pca_df = pd.DataFrame(data=scaled_original_test,columns=new_column_names)\n",
        "result_1_df = pd.concat([result_1_df, pca_df], axis=1)\n",
        "result_1_df.head()\n",
        "result_1_df.to_csv('190569J_label_2.csv',index=False)"
      ],
      "metadata": {
        "colab": {
          "base_uri": "https://localhost:8080/"
        },
        "id": "GW8iqo0ch_V8",
        "outputId": "24904ffa-97dd-4445-e1b6-f30ae3b7b1ed"
      },
      "execution_count": null,
      "outputs": [
        {
          "output_type": "stream",
          "name": "stderr",
          "text": [
            "/usr/local/lib/python3.10/dist-packages/sklearn/base.py:439: UserWarning: X does not have valid feature names, but PCA was fitted with feature names\n",
            "  warnings.warn(\n"
          ]
        }
      ]
    },
    {
      "cell_type": "markdown",
      "source": [
        "# 3 - Feature Engineering for label 3"
      ],
      "metadata": {
        "id": "o6Dnbi7jVA14"
      }
    },
    {
      "cell_type": "code",
      "source": [
        "\n",
        "# Load our dataset\n",
        "train = pd.read_csv('/content/drive/MyDrive/ML/train.csv')\n",
        "test = pd.read_csv('/content/drive/MyDrive/ML/valid.csv')\n",
        "labels = ['label_1','label_2','label_3','label_4']\n",
        "features = [f\"feature_{i}\" for i in range(1,257)]\n",
        "\n",
        "\n",
        "train_feature_3 = train.drop(labels, axis=1)\n",
        "train_label3 = train['label_3']\n",
        "test_feature_3 = test.drop(labels, axis=1)\n",
        "test_label3 = test['label_3']\n",
        "\n",
        "classifier = svm.SVC(kernel=\"linear\")\n",
        "classifier.fit(train_feature_3,train_label3)\n",
        "y_pred = classifier.predict(test_feature_3)\n",
        "accuracy = accuracy_score(test_label3, y_pred)\n",
        "print(\"Accuracy before feature engineering :\", accuracy)\n"
      ],
      "metadata": {
        "colab": {
          "base_uri": "https://localhost:8080/"
        },
        "id": "w00RwKSLVOxS",
        "outputId": "a5d69882-98a6-4f57-ab11-73976ed50a8d"
      },
      "execution_count": null,
      "outputs": [
        {
          "output_type": "stream",
          "name": "stdout",
          "text": [
            "Accuracy before feature engineering : 0.9986666666666667\n"
          ]
        }
      ]
    },
    {
      "cell_type": "code",
      "source": [
        "original_test_feature = original_test.drop(labels, axis=1)\n",
        "pred_label_ori_3 = classifier.predict(original_test_feature)\n",
        "result_1_df = pd.DataFrame()\n",
        "result_1_df['Predicted labels before feature engineering'] = pred_label_ori_3"
      ],
      "metadata": {
        "id": "6KtPB1k8kf9B"
      },
      "execution_count": null,
      "outputs": []
    },
    {
      "cell_type": "markdown",
      "source": [
        "## 3.1 - Use correlation co-effiecient"
      ],
      "metadata": {
        "id": "HnB9qpmmV6mj"
      }
    },
    {
      "cell_type": "code",
      "source": [
        "import numpy as np\n",
        "corr_matrix3 = train_feature_3.corr()\n",
        "\n",
        "# Get upper traingular matrix\n",
        "upper_3 = corr_matrix3.where(np.triu(np.ones(corr_matrix3.shape), k=1).astype(bool))\n",
        "features_to_drop_3 = [column for column in upper_3.columns if any(upper_3[column] > 0.33)]\n",
        "\n",
        "print(\"No of features to be dropped = \", len(features_to_drop_3))\n",
        "\n",
        "features_remain_3 = [element for element in train_feature_3 if element not in features_to_drop_3]\n",
        "print(\"No of features remaining = \",len(features_remain_3))\n",
        "\n"
      ],
      "metadata": {
        "colab": {
          "base_uri": "https://localhost:8080/"
        },
        "id": "9lu241GTWDfO",
        "outputId": "9db1354a-284c-4df7-d603-ddf844ff1e2b"
      },
      "execution_count": null,
      "outputs": [
        {
          "output_type": "stream",
          "name": "stdout",
          "text": [
            "No of features to be dropped =  212\n",
            "No of features remaining =  44\n"
          ]
        }
      ]
    },
    {
      "cell_type": "code",
      "source": [
        "\n",
        "classifier = svm.SVC(kernel=\"linear\")\n",
        "classifier.fit(train[features_remain_3], train_label3)\n",
        "valid_predictions = classifier.predict(test[features_remain_3])\n",
        "accuracy = accuracy_score(test_label3, valid_predictions)\n",
        "print(\"Accuracy after use of correlation co-efficient on L3 :\", accuracy)\n"
      ],
      "metadata": {
        "colab": {
          "base_uri": "https://localhost:8080/"
        },
        "id": "JiQi7XNGWFSF",
        "outputId": "28124348-a1f6-4345-e75d-96b75081990a"
      },
      "execution_count": null,
      "outputs": [
        {
          "output_type": "stream",
          "name": "stdout",
          "text": [
            "Accuracy after use of correlation co-efficient on L3 : 0.9906666666666667\n"
          ]
        }
      ]
    },
    {
      "cell_type": "markdown",
      "source": [
        "## 3.2 Use ANOVA selector"
      ],
      "metadata": {
        "id": "dsGWYtjgXmkt"
      }
    },
    {
      "cell_type": "code",
      "source": [
        "from sklearn.feature_selection import SelectKBest, f_classif\n",
        "from sklearn import svm\n",
        "from sklearn.metrics import accuracy_score, classification_report\n",
        "\n",
        "new_train_feature_3 = train_feature_3.drop(features_to_drop_3, axis=1)\n",
        "new_test_feature_3 = test_feature_3.drop(features_to_drop_3, axis=1)\n",
        "k = 21\n",
        "\n",
        "anova_selector = SelectKBest(score_func=f_classif, k=k)\n",
        "\n",
        "#use anova selector for top k features\n",
        "train_feature_selected_3 = anova_selector.fit_transform(new_train_feature_3, train_label3)\n",
        "\n",
        "# Transform the validation features to select the same 'k' features\n",
        "valid_feature_selected_3 = anova_selector.transform(new_test_feature_3)\n",
        "\n",
        "#use svc\n",
        "classifier = svm.SVC(kernel=\"linear\")\n",
        "classifier.fit(train_feature_selected_3, train_label3)\n",
        "valid_predictions = classifier.predict(valid_feature_selected_3)\n",
        "accuracy = accuracy_score(test_label3, valid_predictions)\n",
        "print(\"Accuracy after using anova selector :\", accuracy)\n"
      ],
      "metadata": {
        "colab": {
          "base_uri": "https://localhost:8080/"
        },
        "id": "aw87kOLNXpuk",
        "outputId": "5fa6907d-b2c1-464b-f4b0-0f9497f268e0"
      },
      "execution_count": null,
      "outputs": [
        {
          "output_type": "stream",
          "name": "stdout",
          "text": [
            "Accuracy after using anova selector : 0.9786666666666667\n"
          ]
        }
      ]
    },
    {
      "cell_type": "markdown",
      "source": [
        "\n",
        "\n",
        "Remaing features after using ANOVA selector\n",
        "\n"
      ],
      "metadata": {
        "id": "F_MgKxjyZNXr"
      }
    },
    {
      "cell_type": "code",
      "source": [
        "selected_feature_indices = anova_selector.get_support(indices=True)\n",
        "\n",
        "# Create a DataFrame with the selected features for validation\n",
        "train_feature_selected_df_3 = pd.DataFrame(train_feature_selected_3, columns=[features[i] for i in selected_feature_indices])\n",
        "valid_feature_selected_df_3 = pd.DataFrame(valid_feature_selected_3, columns=[features[i] for i in selected_feature_indices])\n",
        "train_feature_selected_df_3.head()\n",
        "print(\"Number of rows in the DataFrame:\", valid_feature_selected_df_3.shape[1])\n",
        "\n"
      ],
      "metadata": {
        "colab": {
          "base_uri": "https://localhost:8080/"
        },
        "id": "Hoc694b2ZOg-",
        "outputId": "d2ffda84-70f4-4b58-d84b-471de86703ff"
      },
      "execution_count": null,
      "outputs": [
        {
          "output_type": "stream",
          "name": "stdout",
          "text": [
            "Number of rows in the DataFrame: 21\n"
          ]
        }
      ]
    },
    {
      "cell_type": "markdown",
      "source": [
        "## 3.3 Use Principal Component Analysis"
      ],
      "metadata": {
        "id": "F-3MnqkyY6cs"
      }
    },
    {
      "cell_type": "code",
      "source": [
        "from sklearn.decomposition import PCA\n",
        "no_of_components = 16\n",
        "pca = PCA(n_components=no_of_components)\n",
        "\n",
        "\n",
        "train_feature_pca_3 = pca.fit_transform(train_feature_selected_df_3)\n",
        "valid_feature_pca_3 = pca.transform(valid_feature_selected_df_3)\n",
        "\n",
        "\n",
        "classifier = svm.SVC(kernel=\"linear\")\n",
        "classifier.fit(train_feature_pca_3, train_label3)\n",
        "valid_predictions = classifier.predict(valid_feature_pca_3)\n",
        "accuracy = accuracy_score(test_label3, valid_predictions)\n",
        "print(\"Accuracy after PCA :\", accuracy)"
      ],
      "metadata": {
        "colab": {
          "base_uri": "https://localhost:8080/"
        },
        "id": "BlrPd_9tY70J",
        "outputId": "b5076a36-a03c-4192-a0ac-5f0f32256056"
      },
      "execution_count": null,
      "outputs": [
        {
          "output_type": "stream",
          "name": "stdout",
          "text": [
            "Accuracy after PCA : 0.98\n"
          ]
        }
      ]
    },
    {
      "cell_type": "markdown",
      "source": [
        "## 3.4 Scaling"
      ],
      "metadata": {
        "id": "HkiCk6JWvYXJ"
      }
    },
    {
      "cell_type": "code",
      "source": [
        "sc=StandardScaler()\n",
        "scaled_train = sc.fit_transform(train_feature_pca_3)\n",
        "scaled_test = sc.transform(valid_feature_pca_3)"
      ],
      "metadata": {
        "id": "uMqfU5yYvcWW"
      },
      "execution_count": null,
      "outputs": []
    },
    {
      "cell_type": "code",
      "source": [
        "classifier = svm.SVC(kernel=\"linear\")\n",
        "classifier.fit(scaled_train, train_label3)\n",
        "valid_predictions = classifier.predict(scaled_test)\n",
        "accuracy = accuracy_score(test_label3, valid_predictions)\n",
        "print(\"Accuracy after scaling :\", accuracy)"
      ],
      "metadata": {
        "colab": {
          "base_uri": "https://localhost:8080/"
        },
        "id": "jwo1sqJaveur",
        "outputId": "2eaa55db-4823-4b89-cfbf-19c3b40cb6ad"
      },
      "execution_count": null,
      "outputs": [
        {
          "output_type": "stream",
          "name": "stdout",
          "text": [
            "Accuracy after scaling : 0.98\n"
          ]
        }
      ]
    },
    {
      "cell_type": "code",
      "source": [
        "\n",
        "original_test_feature = original_test.drop(labels, axis=1)\n",
        "original_test_feature = original_test_feature.drop(features_to_drop_3, axis=1)\n",
        "original_test_feature_selected = anova_selector.transform(original_test_feature)\n",
        "original_test_feature_pca = pca.transform(original_test_feature_selected)\n",
        "scaled_original_test = sc.transform(original_test_feature_pca)\n",
        "\n",
        "\n",
        "test_pred_label3 = classifier.predict(scaled_original_test)\n",
        "result_1_df['Predicted labels after feature engineering'] = test_pred_label3\n",
        "result_1_df['No of new features'] = no_of_components\n",
        "new_column_names = [f'new_feature_{i+1}' for i in range(scaled_original_test.shape[1])]\n",
        "pca_df = pd.DataFrame(data=scaled_original_test,columns=new_column_names)\n",
        "result_1_df = pd.concat([result_1_df, pca_df], axis=1)\n",
        "result_1_df.head()\n",
        "result_1_df.to_csv('190569J_label_3.csv',index=False)"
      ],
      "metadata": {
        "colab": {
          "base_uri": "https://localhost:8080/"
        },
        "id": "lGSW2vaBknlE",
        "outputId": "662400ae-4870-4888-a717-ac956762e9b6"
      },
      "execution_count": null,
      "outputs": [
        {
          "output_type": "stream",
          "name": "stderr",
          "text": [
            "/usr/local/lib/python3.10/dist-packages/sklearn/base.py:439: UserWarning: X does not have valid feature names, but PCA was fitted with feature names\n",
            "  warnings.warn(\n"
          ]
        }
      ]
    },
    {
      "cell_type": "markdown",
      "source": [
        "# 4 - Feature Engineering for label 4"
      ],
      "metadata": {
        "id": "y5MZlwaqab6A"
      }
    },
    {
      "cell_type": "code",
      "source": [
        "\n",
        "# Load our dataset\n",
        "train = pd.read_csv('/content/drive/MyDrive/ML/train.csv')\n",
        "test = pd.read_csv('/content/drive/MyDrive/ML/valid.csv')\n",
        "labels = ['label_1','label_2','label_3','label_4']\n",
        "features = [f\"feature_{i}\" for i in range(1,257)]\n",
        "\n",
        "\n",
        "train_feature_4 = train.drop(labels, axis=1)\n",
        "train_label4 = train['label_4']\n",
        "test_feature_4 = test.drop(labels, axis=1)\n",
        "test_label4 = test['label_4']\n",
        "\n",
        "classifier = svm.SVC(kernel=\"linear\")\n",
        "classifier.fit(train_feature_4,train_label4)\n",
        "y_pred = classifier.predict(test_feature_4)\n",
        "accuracy = accuracy_score(test_label4, y_pred)\n",
        "print(\"Accuracy before feature engineering :\", accuracy)\n"
      ],
      "metadata": {
        "colab": {
          "base_uri": "https://localhost:8080/"
        },
        "id": "NgVNny66agOc",
        "outputId": "4e9fd7cf-80f6-4e2c-f52d-e216acaa3954"
      },
      "execution_count": null,
      "outputs": [
        {
          "output_type": "stream",
          "name": "stdout",
          "text": [
            "Accuracy before feature engineering : 0.9586666666666667\n"
          ]
        }
      ]
    },
    {
      "cell_type": "markdown",
      "source": [
        "test file prediction"
      ],
      "metadata": {
        "id": "YJ-RaIK2lrLi"
      }
    },
    {
      "cell_type": "code",
      "source": [
        "original_test = pd.read_csv('/content/drive/MyDrive/ML/test.csv')\n",
        "original_test_feature = original_test.drop(labels, axis=1)\n",
        "pred_label_ori_4 = classifier.predict(original_test_feature)\n",
        "result_1_df = pd.DataFrame()\n",
        "result_1_df['Predicted labels before feature engineering'] = pred_label_ori_4\n",
        "\n"
      ],
      "metadata": {
        "id": "GYlZksR7lt79"
      },
      "execution_count": null,
      "outputs": []
    },
    {
      "cell_type": "code",
      "source": [
        "import matplotlib.pyplot as plt\n",
        "import seaborn as sns"
      ],
      "metadata": {
        "id": "M9BGSmQ4bcpN"
      },
      "execution_count": null,
      "outputs": []
    },
    {
      "cell_type": "code",
      "source": [
        "\n",
        "# Create a countplot to visualize label distribution\n",
        "plt.figure(figsize=(8, 6))\n",
        "sns.countplot(x=train_label4,data=train)\n",
        "plt.title('Label Distribution')\n",
        "plt.xlabel('Labels')\n",
        "plt.ylabel('Count')\n",
        "plt.show()"
      ],
      "metadata": {
        "colab": {
          "base_uri": "https://localhost:8080/",
          "height": 564
        },
        "id": "Yg7bceeAa4Gg",
        "outputId": "f53350e8-46b1-4d32-c10a-c282b14be7bd"
      },
      "execution_count": null,
      "outputs": [
        {
          "output_type": "display_data",
          "data": {
            "text/plain": [
              "<Figure size 800x600 with 1 Axes>"
            ],
            "image/png": "[encoded data removed]"
          },
          "metadata": {}
        }
      ]
    },
    {
      "cell_type": "code",
      "source": [
        "from sklearn.preprocessing import StandardScaler\n",
        "from imblearn.over_sampling import SMOTE"
      ],
      "metadata": {
        "id": "707WTFiqds4E"
      },
      "execution_count": null,
      "outputs": []
    },
    {
      "cell_type": "code",
      "source": [
        "#oversample minority class\n",
        "smote = SMOTE(random_state=42)\n",
        "feature_resampled, label_resampled = smote.fit_resample(train_feature_4, train_label4)\n",
        "\n",
        "classifier = svm.SVC(kernel=\"linear\")\n",
        "classifier.fit(feature_resampled,label_resampled)\n",
        "y_pred = classifier.predict(test_feature_4)\n",
        "accuracy = accuracy_score(test_label4, y_pred)\n",
        "print(\"Accuracy after oversampling :\", accuracy)"
      ],
      "metadata": {
        "id": "ucfszUJm1CfX",
        "colab": {
          "base_uri": "https://localhost:8080/"
        },
        "outputId": "41c487cc-8e80-4d3f-a93a-eaaafbdb045e"
      },
      "execution_count": null,
      "outputs": [
        {
          "output_type": "stream",
          "name": "stdout",
          "text": [
            "Accuracy after oversampling : 0.9573333333333334\n"
          ]
        }
      ]
    },
    {
      "cell_type": "code",
      "source": [
        "\n",
        "# Create a countplot to visualize label distribution\n",
        "plt.figure(figsize=(8, 6))\n",
        "sns.countplot(x=label_resampled,data=feature_resampled)\n",
        "plt.title('Label Distribution')\n",
        "plt.xlabel('Labels')\n",
        "plt.ylabel('Count')\n",
        "plt.show()"
      ],
      "metadata": {
        "colab": {
          "base_uri": "https://localhost:8080/",
          "height": 564
        },
        "id": "k6O0M3c8bucf",
        "outputId": "8b0cf9a3-135e-4edd-878b-720f3ce04bf6"
      },
      "execution_count": null,
      "outputs": [
        {
          "output_type": "display_data",
          "data": {
            "text/plain": [
              "<Figure size 800x600 with 1 Axes>"
            ],
            "image/png": "[encoded data removed]"
          },
          "metadata": {}
        }
      ]
    },
    {
      "cell_type": "markdown",
      "source": [
        "## 4.1 - Use correlation co-effiecient"
      ],
      "metadata": {
        "id": "qboKdQO3fS0f"
      }
    },
    {
      "cell_type": "code",
      "source": [
        "import numpy as np\n",
        "corr_matrix4 = train_feature_4.corr()\n",
        "\n",
        "# Get upper traingular matrix\n",
        "upper_4 = corr_matrix4.where(np.triu(np.ones(corr_matrix4.shape), k=1).astype(bool))\n",
        "features_to_drop_4 = [column for column in upper_4.columns if any(upper_4[column] > 0.44)]\n",
        "\n",
        "print(\"No of features to be dropped = \", len(features_to_drop_4))\n",
        "\n",
        "features_remain_4 = [element for element in train_feature_4 if element not in features_to_drop_4]\n",
        "print(\"No of features remaining = \",len(features_remain_4))\n",
        "\n"
      ],
      "metadata": {
        "id": "-XE4i_fRfsS8",
        "colab": {
          "base_uri": "https://localhost:8080/"
        },
        "outputId": "6506af00-31da-42d2-f1ee-9a7cf17a9323"
      },
      "execution_count": null,
      "outputs": [
        {
          "output_type": "stream",
          "name": "stdout",
          "text": [
            "No of features to be dropped =  95\n",
            "No of features remaining =  161\n"
          ]
        }
      ]
    },
    {
      "cell_type": "code",
      "source": [
        "\n",
        "classifier = svm.SVC(kernel=\"linear\")\n",
        "classifier.fit(train[features_remain_4], train_label4)\n",
        "valid_predictions = classifier.predict(test[features_remain_4])\n",
        "accuracy = accuracy_score(test_label4, valid_predictions)\n",
        "print(\"Accuracy after use of correlation co-efficient on L4 :\", accuracy)\n"
      ],
      "metadata": {
        "id": "DBdqLJDQgHDg",
        "colab": {
          "base_uri": "https://localhost:8080/"
        },
        "outputId": "a08196f7-8502-47d4-8c53-d47348a6127a"
      },
      "execution_count": null,
      "outputs": [
        {
          "output_type": "stream",
          "name": "stdout",
          "text": [
            "Accuracy after use of correlation co-efficient on L4 : 0.9506666666666667\n"
          ]
        }
      ]
    },
    {
      "cell_type": "markdown",
      "source": [
        "## 4.2 Use ANOVA selector"
      ],
      "metadata": {
        "id": "hjImA8vVylnk"
      }
    },
    {
      "cell_type": "code",
      "source": [
        "from sklearn.feature_selection import SelectKBest, f_classif\n",
        "from sklearn import svm\n",
        "from sklearn.metrics import accuracy_score, classification_report\n",
        "\n",
        "new_train_feature_4 = train_feature_4.drop(features_to_drop_4, axis=1)\n",
        "new_test_feature_4 = test_feature_4.drop(features_to_drop_4, axis=1)\n",
        "k = 110\n",
        "\n",
        "anova_selector = SelectKBest(score_func=f_classif, k=k)\n",
        "\n",
        "#use anova selector for top k features\n",
        "train_feature_selected_4 = anova_selector.fit_transform(new_train_feature_4, train_label4)\n",
        "\n",
        "# Transform the validation features to select the same 'k' features\n",
        "valid_feature_selected_4 = anova_selector.transform(new_test_feature_4)\n",
        "\n",
        "#use svc\n",
        "classifier = svm.SVC(kernel=\"linear\")\n",
        "classifier.fit(train_feature_selected_4, train_label4)\n",
        "valid_predictions = classifier.predict(valid_feature_selected_4)\n",
        "accuracy = accuracy_score(test_label4, valid_predictions)\n",
        "print(\"Accuracy after using anova selector :\", accuracy)\n"
      ],
      "metadata": {
        "id": "904Mutj3ynar",
        "colab": {
          "base_uri": "https://localhost:8080/"
        },
        "outputId": "89bcd40d-ddf4-4995-ab2c-6a37f75d6d79"
      },
      "execution_count": null,
      "outputs": [
        {
          "output_type": "stream",
          "name": "stdout",
          "text": [
            "Accuracy after using anova selector : 0.9333333333333333\n"
          ]
        }
      ]
    },
    {
      "cell_type": "markdown",
      "source": [
        "\n",
        "\n",
        "Remaing features after using ANOVA selector\n",
        "\n"
      ],
      "metadata": {
        "id": "iWPTI3WEypqD"
      }
    },
    {
      "cell_type": "code",
      "source": [
        "selected_feature_indices = anova_selector.get_support(indices=True)\n",
        "\n",
        "# Create a DataFrame with the selected features for validation\n",
        "train_feature_selected_df_4 = pd.DataFrame(train_feature_selected_4, columns=[features[i] for i in selected_feature_indices])\n",
        "valid_feature_selected_df_4 = pd.DataFrame(valid_feature_selected_4, columns=[features[i] for i in selected_feature_indices])\n",
        "train_feature_selected_df_4.head()\n",
        "print(\"Number of columns in the features:\", valid_feature_selected_df_4.shape[1])\n",
        "\n"
      ],
      "metadata": {
        "id": "aZ-mev9KyrDm",
        "colab": {
          "base_uri": "https://localhost:8080/"
        },
        "outputId": "5a5d5f6a-7f74-439b-ead0-4da76d902fde"
      },
      "execution_count": null,
      "outputs": [
        {
          "output_type": "stream",
          "name": "stdout",
          "text": [
            "Number of columns in the features: 110\n"
          ]
        }
      ]
    },
    {
      "cell_type": "markdown",
      "source": [
        "## 4.3 Use Principal Component Analysis"
      ],
      "metadata": {
        "id": "mYHH0S4Dystp"
      }
    },
    {
      "cell_type": "code",
      "source": [
        "from sklearn.decomposition import PCA\n",
        "no_of_components = 99\n",
        "pca = PCA(n_components=no_of_components)\n",
        "\n",
        "\n",
        "train_feature_pca_4 = pca.fit_transform(train_feature_selected_df_4)\n",
        "valid_feature_pca_4 = pca.transform(valid_feature_selected_df_4)\n",
        "\n",
        "\n",
        "classifier = svm.SVC(kernel=\"linear\")\n",
        "classifier.fit(train_feature_pca_4, train_label4)\n",
        "valid_predictions = classifier.predict(valid_feature_pca_4)\n",
        "accuracy = accuracy_score(test_label4, valid_predictions)\n",
        "print(\"Accuracy after PCA :\", accuracy)"
      ],
      "metadata": {
        "id": "V4S8Bh8vyttA",
        "colab": {
          "base_uri": "https://localhost:8080/"
        },
        "outputId": "53069476-3458-46fd-f864-f4330b5b9d2b"
      },
      "execution_count": null,
      "outputs": [
        {
          "output_type": "stream",
          "name": "stdout",
          "text": [
            "Accuracy after PCA : 0.9306666666666666\n"
          ]
        }
      ]
    },
    {
      "cell_type": "markdown",
      "source": [
        "## 4.4 Scaling"
      ],
      "metadata": {
        "id": "Vt60nyzhyxiT"
      }
    },
    {
      "cell_type": "code",
      "source": [
        "sc=StandardScaler()\n",
        "scaled_train = sc.fit_transform(train_feature_pca_4)\n",
        "scaled_test = sc.transform(valid_feature_pca_4)"
      ],
      "metadata": {
        "id": "1p9gBOpFyz4Z"
      },
      "execution_count": null,
      "outputs": []
    },
    {
      "cell_type": "code",
      "source": [
        "classifier = svm.SVC(kernel=\"linear\")\n",
        "classifier.fit(scaled_train, train_label4)\n",
        "valid_predictions = classifier.predict(scaled_test)\n",
        "accuracy = accuracy_score(test_label4, valid_predictions)\n",
        "print(\"Accuracy after scaling :\", accuracy)"
      ],
      "metadata": {
        "id": "hFEBeEnPy2HM",
        "colab": {
          "base_uri": "https://localhost:8080/"
        },
        "outputId": "bb44f9ac-c2cb-4132-c6af-d2daf0f1337d"
      },
      "execution_count": null,
      "outputs": [
        {
          "output_type": "stream",
          "name": "stdout",
          "text": [
            "Accuracy after scaling : 0.9306666666666666\n"
          ]
        }
      ]
    },
    {
      "cell_type": "code",
      "source": [
        "original_test_feature = original_test.drop(labels, axis=1)\n",
        "original_test_feature = original_test_feature.drop(features_to_drop_4, axis=1)\n",
        "original_test_feature_selected = anova_selector.transform(original_test_feature)\n",
        "original_test_feature_pca = pca.transform(original_test_feature_selected)\n",
        "scaled_original_test = sc.transform(original_test_feature_pca)\n",
        "\n",
        "\n",
        "test_pred_label4 = classifier.predict(scaled_original_test)\n",
        "result_1_df['Predicted labels after feature engineering'] = test_pred_label4\n",
        "result_1_df['No of new features'] = no_of_components\n",
        "new_column_names = [f'new_feature_{i+1}' for i in range(scaled_original_test.shape[1])]\n",
        "pca_df = pd.DataFrame(data=scaled_original_test,columns=new_column_names)\n",
        "result_1_df = pd.concat([result_1_df, pca_df], axis=1)\n",
        "result_1_df.head()\n",
        "result_1_df.to_csv('190569J_label_4.csv',index=False)"
      ],
      "metadata": {
        "colab": {
          "base_uri": "https://localhost:8080/"
        },
        "id": "6y6ppPZ_ld07",
        "outputId": "fc396a33-c39a-4b6c-8867-9925e0231e8f"
      },
      "execution_count": null,
      "outputs": [
        {
          "output_type": "stream",
          "name": "stderr",
          "text": [
            "/usr/local/lib/python3.10/dist-packages/sklearn/base.py:439: UserWarning: X does not have valid feature names, but PCA was fitted with feature names\n",
            "  warnings.warn(\n"
          ]
        }
      ]
    }
  ],
  "metadata": {
    "colab": {
      "provenance": []
    },
    "kernelspec": {
      "display_name": "Python 3",
      "name": "python3"
    },
    "language_info": {
      "name": "python"
    }
  },
  "nbformat": 4,
  "nbformat_minor": 0
}